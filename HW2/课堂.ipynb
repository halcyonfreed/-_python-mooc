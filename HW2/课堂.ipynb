{
 "cells": [
  {
   "attachments": {},
   "cell_type": "markdown",
   "metadata": {},
   "source": [
    "2.3 变位词判断 上\n",
    "\n",
    "1.  法一: 逐个检查"
   ]
  },
  {
   "cell_type": "code",
   "execution_count": 7,
   "metadata": {},
   "outputs": [
    {
     "name": "stdout",
     "output_type": "stream",
     "text": [
      "s1: python, s2: nohtyp\n",
      "['n', 'o', 'h', 't', 'y', 'p'] 6 6\n",
      "True\n"
     ]
    }
   ],
   "source": [
    "# def stupidbuteasySolution(s1,s2):\n",
    "#     print(f\"s1: {s1}, s2: {s2}\")\n",
    "#     ls2=list(s2) #为什么str转成list：因为 str的成员不能改变,所以要往某个字母贴标记None要用list存\n",
    "#     print(ls2,len(ls2),len(s2))\n",
    "#     pos1=0\n",
    "#     stillOK=True #默认是变位词\n",
    "#     while pos1<len(s1) and stillOK:\n",
    "#         pos2=0\n",
    "#         found=False\n",
    "#         while pos2<len(s2) and not found:\n",
    "#             # while pos2<len(ls2) and not found:\n",
    "#             if s1[pos1]==ls2[pos2]: #把s1中的每个和s2比\n",
    "#                 found=True\n",
    "#             else:\n",
    "#                 pos2+=1\n",
    "#         if found:                                                                                                                                                                                                                                                                                                                                                                                                                                                                                                                                                                                                                                                                                                                                                                             \n",
    "#             ls2[pos2]=None #找到了\n",
    "#         else:\n",
    "#             stillOK=False #未找到\n",
    "#         pos1+=1\n",
    "#     return stillOK\n",
    "\n",
    "# print(stupidbuteasySolution('python','nohtyp'))\n",
    "\n"
   ]
  },
  {
   "attachments": {},
   "cell_type": "markdown",
   "metadata": {},
   "source": [
    "自己理解完默写一遍\n",
    "干的事情\n",
    "1. 遍历s1，外while\n",
    "2. 遍历s2，内while ;打标记(str不可变所以s2转成list)"
   ]
  },
  {
   "cell_type": "code",
   "execution_count": 11,
   "metadata": {},
   "outputs": [
    {
     "name": "stdout",
     "output_type": "stream",
     "text": [
      "False\n"
     ]
    }
   ],
   "source": [
    "def plainSolution(s1,s2):\n",
    "    pos1=0\n",
    "    stillok=True #一直比\n",
    "    ls2=list(s2)\n",
    "    while pos1<len(s1) and stillok:年他\n",
    "        pos2=0 #每次从s2头开始比\n",
    "        found=False #初始默认没找到\n",
    "        while pos2<len(s2) and not found:\n",
    "            if s1[pos1]==s2[pos2]:\n",
    "                found=True\n",
    "            else:\n",
    "                pos2+=1\n",
    "        if found:\n",
    "            ls2[pos2]=None\n",
    "        else:\n",
    "            stillok=False                \n",
    "        pos1+=1\n",
    "    return stillok\n",
    "\n",
    "s1='python'\n",
    "s2='nohtyp'\n",
    "s3='pyabcd'\n",
    "print(plainSolution('python',s3))\n",
    "            "
   ]
  },
  {
   "attachments": {},
   "cell_type": "markdown",
   "metadata": {},
   "source": [
    "法二: 先排序再比较"
   ]
  },
  {
   "cell_type": "code",
   "execution_count": 14,
   "metadata": {},
   "outputs": [
    {
     "name": "stdout",
     "output_type": "stream",
     "text": [
      "before sort: ['p', 'y', 't', 'h', 'o', 'n'], ['n', 'o', 'h', 't', 'y', 'p']\n",
      "after sort:['h', 'n', 'o', 'p', 't', 'y'], ['h', 'n', 'o', 'p', 't', 'y']\n",
      "True\n",
      "before sort: ['p', 'y', 't', 'h', 'o', 'n'], ['p', 'y', 'a', 'b', 'c', 'd']\n",
      "after sort:['h', 'n', 'o', 'p', 't', 'y'], ['a', 'b', 'c', 'd', 'p', 'y']\n",
      "False\n"
     ]
    }
   ],
   "source": [
    "def sortSolution(s1,s2):\n",
    "    ls1,ls2=list(s1),list(s2)\n",
    "    print(f'before sort: {ls1}, {ls2}')\n",
    "    ls1.sort()\n",
    "    ls2.sort()\n",
    "    print(f'after sort:{ls1}, {ls2}')\n",
    "    pos=0\n",
    "    match=True\n",
    "    while pos<len(s1) and match:\n",
    "        if ls1[pos]==ls2[pos]:\n",
    "            pos+=1\n",
    "        else:\n",
    "            match=False\n",
    "    return match\n",
    "print(sortSolution(s1,s2))\n",
    "print(sortSolution(s1,s3))"
   ]
  },
  {
   "cell_type": "code",
   "execution_count": null,
   "metadata": {},
   "outputs": [],
   "source": []
  }
 ],
 "metadata": {
  "kernelspec": {
   "display_name": "ngsim",
   "language": "python",
   "name": "python3"
  },
  "language_info": {
   "codemirror_mode": {
    "name": "ipython",
    "version": 3
   },
   "file_extension": ".py",
   "mimetype": "text/x-python",
   "name": "python",
   "nbconvert_exporter": "python",
   "pygments_lexer": "ipython3",
   "version": "3.9.15"
  },
  "orig_nbformat": 4,
  "vscode": {
   "interpreter": {
    "hash": "c0dcbcd98781419af1a8bb81854847d456fd6288ab8580d653df1b1cc53d926b"
   }
  }
 },
 "nbformat": 4,
 "nbformat_minor": 2
}
