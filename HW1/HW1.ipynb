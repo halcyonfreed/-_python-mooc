{
 "cells": [
  {
   "attachments": {},
   "cell_type": "markdown",
   "metadata": {},
   "source": [
    "K01 Python 编程练习: 写一个Pi的5千万位内 ,提取任意制定开始位置和茶馆奴的的数字片段\n",
    "\n",
    "测试用例:\n",
    "\n",
    "开始位置:20210316 长度25\n",
    "结果:3793413620467824125700923\n",
    "\n",
    "开始位置: 20200101 长度10\n",
    "结果 4030447962"
   ]
  },
  {
   "cell_type": "code",
   "execution_count": 52,
   "metadata": {},
   "outputs": [
    {
     "name": "stdout",
     "output_type": "stream",
     "text": [
      "['0x73', '0x79', '0x34', '0x13', '0x62', '0x4', '0x67', '0x82', '0x41', '0x25', '0x70', '0x9', '0x23']\n"
     ]
    }
   ],
   "source": [
    "f=open('pi50.4.bin','rb')\n",
    "\n",
    "stp=int(input())//2\n",
    "len=int(input())\n",
    "n_len=len//2\n",
    "d=f.read(stp+n_len+1)\n",
    "# print(type(d))\n",
    "# for a in d:\n",
    "    # print(a)\n",
    "    # print(type(a))\n",
    "    # print(hex(a))\n",
    "# d=f.read(stp)\n",
    "\n",
    "# print(hex(int.from_bytes(f.readline(10),byteorder='big', signed=False)))\n",
    "\n",
    "# print(f.read(stp))\n",
    "# out_start=int(f.readline(stp),16)\n",
    "\n",
    "# out_end=f.read(stp+)\n",
    "\n",
    "\n",
    "\n",
    "print([hex(i) for i in d][stp-1:stp+n_len])\n",
    "f.close()"
   ]
  },
  {
   "attachments": {},
   "cell_type": "markdown",
   "metadata": {},
   "source": [
    "H1 在pi中找生日\n",
    "1. 输入像k01中的8位生日日期,如果找不到输出NOT FOUND\n",
    "2.  当输入2022,查找从20220101到20221231的265天,每个日期是否都存在与5千万位pi内,输出3个值:(存在的日期个数 ,不存在的日期个数,总时间(s))\n",
    "\n",
    "p.s.讲解见下一堂W03课件\n",
    "做不出来太恶心了"
   ]
  },
  {
   "cell_type": "code",
   "execution_count": 59,
   "metadata": {},
   "outputs": [
    {
     "name": "stdout",
     "output_type": "stream",
     "text": [
      "b'14159265358979323846'\n"
     ]
    }
   ],
   "source": [
    "f=open('pi50.4.bin','rb')\n",
    "dbuff=f.read(10)\n",
    "s=\"\".join(f\"{d:02x}\" for  d in dbuff)\n",
    "print(s)\n",
    "s=s.encode() #再从16进制int转回bytes\n",
    "print(s)"
   ]
  },
  {
   "attachments": {},
   "cell_type": "markdown",
   "metadata": {},
   "source": [
    "法一"
   ]
  },
  {
   "cell_type": "code",
   "execution_count": 64,
   "metadata": {},
   "outputs": [],
   "source": [
    "import datetime"
   ]
  },
  {
   "cell_type": "code",
   "execution_count": 61,
   "metadata": {},
   "outputs": [
    {
     "ename": "NameError",
     "evalue": "name 'time' is not defined",
     "output_type": "error",
     "traceback": [
      "\u001b[0;31m---------------------------------------------------------------------------\u001b[0m",
      "\u001b[0;31mNameError\u001b[0m                                 Traceback (most recent call last)",
      "Cell \u001b[0;32mIn[61], line 1\u001b[0m\n\u001b[0;32m----> 1\u001b[0m d1\u001b[39m=\u001b[39mtime\u001b[39m.\u001b[39mdatetime\u001b[39m.\u001b[39mdate(\u001b[39m2022\u001b[39m,\u001b[39m1\u001b[39m,\u001b[39m1\u001b[39m)\n",
      "\u001b[0;31mNameError\u001b[0m: name 'time' is not defined"
     ]
    }
   ],
   "source": [
    "d1=time.datetime.date(2022,1,1)"
   ]
  },
  {
   "cell_type": "code",
   "execution_count": null,
   "metadata": {},
   "outputs": [],
   "source": []
  }
 ],
 "metadata": {
  "kernelspec": {
   "display_name": "ngsim",
   "language": "python",
   "name": "python3"
  },
  "language_info": {
   "codemirror_mode": {
    "name": "ipython",
    "version": 3
   },
   "file_extension": ".py",
   "mimetype": "text/x-python",
   "name": "python",
   "nbconvert_exporter": "python",
   "pygments_lexer": "ipython3",
   "version": "3.9.15"
  },
  "orig_nbformat": 4,
  "vscode": {
   "interpreter": {
    "hash": "c0dcbcd98781419af1a8bb81854847d456fd6288ab8580d653df1b1cc53d926b"
   }
  }
 },
 "nbformat": 4,
 "nbformat_minor": 2
}
