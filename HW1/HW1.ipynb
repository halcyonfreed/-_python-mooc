{
 "cells": [
  {
   "attachments": {},
   "cell_type": "markdown",
   "metadata": {},
   "source": [
    "K01 Python 编程练习: 写一个Pi的5千万位内 ,提取任意制定开始位置和茶馆奴的的数字片段\n",
    "\n",
    "测试用例:\n",
    "\n",
    "开始位置:20210316 长度25\n",
    "结果:3793413620467824125700923\n",
    "\n",
    "开始位置: 20200101 长度10\n",
    "结果 4030447962"
   ]
  },
  {
   "cell_type": "code",
   "execution_count": 11,
   "metadata": {},
   "outputs": [
    {
     "name": "stdout",
     "output_type": "stream",
     "text": [
      "0x14\n",
      "0x15\n",
      "0x92\n",
      "0x65\n",
      "0x35\n",
      "0x89\n",
      "0x79\n",
      "0x32\n",
      "0x38\n",
      "0x46\n"
     ]
    }
   ],
   "source": [
    "f=open('pi50.4.bin','rb')\n",
    "d=f.read(10)\n",
    "for a in d:\n",
    "    # print(a)\n",
    "    print(hex(a))\n",
    "f.close()"
   ]
  },
  {
   "attachments": {},
   "cell_type": "markdown",
   "metadata": {},
   "source": [
    "H1 在pi中找生日\n",
    "1. 输入像k01中的8位生日日期,如果找不到输出NOT FOUND\n",
    "2.  当输入2022,查找从20220101到20221231的265天,每个日期是否都存在与5千万位pi内,输出3个值:(存在的日期个数 ,不存在的日期个数,总时间(s))\n",
    "\n",
    "p.s.讲解见下一堂W03课件"
   ]
  },
  {
   "cell_type": "code",
   "execution_count": 17,
   "metadata": {},
   "outputs": [
    {
     "ename": "AttributeError",
     "evalue": "'bytes' object has no attribute 'encode'",
     "output_type": "error",
     "traceback": [
      "\u001b[0;31m---------------------------------------------------------------------------\u001b[0m",
      "\u001b[0;31mAttributeError\u001b[0m                            Traceback (most recent call last)",
      "Cell \u001b[0;32mIn[17], line 4\u001b[0m\n\u001b[1;32m      2\u001b[0m dbuff\u001b[39m=\u001b[39mf\u001b[39m.\u001b[39mread(\u001b[39m10\u001b[39m)\n\u001b[1;32m      3\u001b[0m \u001b[39m# print(type(dbuff))\u001b[39;00m\n\u001b[0;32m----> 4\u001b[0m help(dbuff\u001b[39m.\u001b[39;49mencode())\n",
      "\u001b[0;31mAttributeError\u001b[0m: 'bytes' object has no attribute 'encode'"
     ]
    }
   ],
   "source": [
    "f=open('pi50.4.bin','rb')\n",
    "dbuff=f.read(10)\n",
    "# print(type(dbuff))\n",
    "s=\"\".join()\n",
    "help(dbuff.encode())"
   ]
  },
  {
   "cell_type": "code",
   "execution_count": null,
   "metadata": {},
   "outputs": [],
   "source": []
  }
 ],
 "metadata": {
  "kernelspec": {
   "display_name": "ngsim",
   "language": "python",
   "name": "python3"
  },
  "language_info": {
   "codemirror_mode": {
    "name": "ipython",
    "version": 3
   },
   "file_extension": ".py",
   "mimetype": "text/x-python",
   "name": "python",
   "nbconvert_exporter": "python",
   "pygments_lexer": "ipython3",
   "version": "3.9.15 (main, Nov 24 2022, 14:31:59) \n[GCC 11.2.0]"
  },
  "orig_nbformat": 4,
  "vscode": {
   "interpreter": {
    "hash": "c0dcbcd98781419af1a8bb81854847d456fd6288ab8580d653df1b1cc53d926b"
   }
  }
 },
 "nbformat": 4,
 "nbformat_minor": 2
}
